{
 "cells": [
  {
   "cell_type": "code",
   "execution_count": 1,
   "id": "93c99678-b172-4e4a-91c2-e532c4074941",
   "metadata": {},
   "outputs": [],
   "source": [
    "import numpy as np\n",
    "import pandas as pd\n",
    "import warnings\n",
    "warnings.filterwarnings('ignore')"
   ]
  },
  {
   "cell_type": "code",
   "execution_count": 4,
   "id": "51987afe-4e66-4548-b98f-e8bcd514718d",
   "metadata": {},
   "outputs": [],
   "source": [
    "roadacc = pd.read_csv(r\"C:\\Users\\cherd\\OneDrive\\Pictures\\gela\\sir mesiera\\uk_road_accident.csv\")"
   ]
  },
  {
   "cell_type": "code",
   "execution_count": 5,
   "id": "cf05bea1-d9fb-46db-ac12-88d335defb0f",
   "metadata": {},
   "outputs": [
    {
     "data": {
      "text/html": [
       "<div>\n",
       "<style scoped>\n",
       "    .dataframe tbody tr th:only-of-type {\n",
       "        vertical-align: middle;\n",
       "    }\n",
       "\n",
       "    .dataframe tbody tr th {\n",
       "        vertical-align: top;\n",
       "    }\n",
       "\n",
       "    .dataframe thead th {\n",
       "        text-align: right;\n",
       "    }\n",
       "</style>\n",
       "<table border=\"1\" class=\"dataframe\">\n",
       "  <thead>\n",
       "    <tr style=\"text-align: right;\">\n",
       "      <th></th>\n",
       "      <th>Index</th>\n",
       "      <th>Accident_Severity</th>\n",
       "      <th>Accident Date</th>\n",
       "      <th>Latitude</th>\n",
       "      <th>Light_Conditions</th>\n",
       "      <th>District Area</th>\n",
       "      <th>Longitude</th>\n",
       "      <th>Number_of_Casualties</th>\n",
       "      <th>Number_of_Vehicles</th>\n",
       "      <th>Road_Surface_Conditions</th>\n",
       "      <th>Road_Type</th>\n",
       "      <th>Urban_or_Rural_Area</th>\n",
       "      <th>Weather_Conditions</th>\n",
       "      <th>Vehicle_Type</th>\n",
       "    </tr>\n",
       "  </thead>\n",
       "  <tbody>\n",
       "    <tr>\n",
       "      <th>0</th>\n",
       "      <td>200701BS64157</td>\n",
       "      <td>Serious</td>\n",
       "      <td>5/6/2019</td>\n",
       "      <td>51.506187</td>\n",
       "      <td>Darkness - lights lit</td>\n",
       "      <td>Kensington and Chelsea</td>\n",
       "      <td>-0.209082</td>\n",
       "      <td>1</td>\n",
       "      <td>2</td>\n",
       "      <td>Dry</td>\n",
       "      <td>Single carriageway</td>\n",
       "      <td>Urban</td>\n",
       "      <td>Fine no high winds</td>\n",
       "      <td>Car</td>\n",
       "    </tr>\n",
       "    <tr>\n",
       "      <th>1</th>\n",
       "      <td>200701BS65737</td>\n",
       "      <td>Serious</td>\n",
       "      <td>2/7/2019</td>\n",
       "      <td>51.495029</td>\n",
       "      <td>Daylight</td>\n",
       "      <td>Kensington and Chelsea</td>\n",
       "      <td>-0.173647</td>\n",
       "      <td>1</td>\n",
       "      <td>2</td>\n",
       "      <td>Wet or damp</td>\n",
       "      <td>Single carriageway</td>\n",
       "      <td>Urban</td>\n",
       "      <td>Raining no high winds</td>\n",
       "      <td>Car</td>\n",
       "    </tr>\n",
       "    <tr>\n",
       "      <th>2</th>\n",
       "      <td>200701BS66127</td>\n",
       "      <td>Serious</td>\n",
       "      <td>26-08-2019</td>\n",
       "      <td>51.517715</td>\n",
       "      <td>Darkness - lighting unknown</td>\n",
       "      <td>Kensington and Chelsea</td>\n",
       "      <td>-0.210215</td>\n",
       "      <td>1</td>\n",
       "      <td>3</td>\n",
       "      <td>Dry</td>\n",
       "      <td>NaN</td>\n",
       "      <td>Urban</td>\n",
       "      <td>NaN</td>\n",
       "      <td>Taxi/Private hire car</td>\n",
       "    </tr>\n",
       "    <tr>\n",
       "      <th>3</th>\n",
       "      <td>200701BS66128</td>\n",
       "      <td>Serious</td>\n",
       "      <td>16-08-2019</td>\n",
       "      <td>51.495478</td>\n",
       "      <td>Daylight</td>\n",
       "      <td>Kensington and Chelsea</td>\n",
       "      <td>-0.202731</td>\n",
       "      <td>1</td>\n",
       "      <td>4</td>\n",
       "      <td>Dry</td>\n",
       "      <td>Single carriageway</td>\n",
       "      <td>Urban</td>\n",
       "      <td>Fine no high winds</td>\n",
       "      <td>Bus or coach (17 or more pass seats)</td>\n",
       "    </tr>\n",
       "    <tr>\n",
       "      <th>4</th>\n",
       "      <td>200701BS66837</td>\n",
       "      <td>Slight</td>\n",
       "      <td>3/9/2019</td>\n",
       "      <td>51.488576</td>\n",
       "      <td>Darkness - lights lit</td>\n",
       "      <td>Kensington and Chelsea</td>\n",
       "      <td>-0.192487</td>\n",
       "      <td>1</td>\n",
       "      <td>2</td>\n",
       "      <td>Dry</td>\n",
       "      <td>NaN</td>\n",
       "      <td>Urban</td>\n",
       "      <td>NaN</td>\n",
       "      <td>Other vehicle</td>\n",
       "    </tr>\n",
       "    <tr>\n",
       "      <th>...</th>\n",
       "      <td>...</td>\n",
       "      <td>...</td>\n",
       "      <td>...</td>\n",
       "      <td>...</td>\n",
       "      <td>...</td>\n",
       "      <td>...</td>\n",
       "      <td>...</td>\n",
       "      <td>...</td>\n",
       "      <td>...</td>\n",
       "      <td>...</td>\n",
       "      <td>...</td>\n",
       "      <td>...</td>\n",
       "      <td>...</td>\n",
       "      <td>...</td>\n",
       "    </tr>\n",
       "    <tr>\n",
       "      <th>660674</th>\n",
       "      <td>201091NM01760</td>\n",
       "      <td>Slight</td>\n",
       "      <td>18-02-2022</td>\n",
       "      <td>57.374005</td>\n",
       "      <td>Daylight</td>\n",
       "      <td>Highland</td>\n",
       "      <td>-3.467828</td>\n",
       "      <td>2</td>\n",
       "      <td>1</td>\n",
       "      <td>Dry</td>\n",
       "      <td>Single carriageway</td>\n",
       "      <td>Rural</td>\n",
       "      <td>Fine no high winds</td>\n",
       "      <td>Car</td>\n",
       "    </tr>\n",
       "    <tr>\n",
       "      <th>660675</th>\n",
       "      <td>201091NM01881</td>\n",
       "      <td>Slight</td>\n",
       "      <td>21-02-2022</td>\n",
       "      <td>57.232273</td>\n",
       "      <td>Darkness - no lighting</td>\n",
       "      <td>Highland</td>\n",
       "      <td>-3.809281</td>\n",
       "      <td>1</td>\n",
       "      <td>1</td>\n",
       "      <td>Frost or ice</td>\n",
       "      <td>Single carriageway</td>\n",
       "      <td>Rural</td>\n",
       "      <td>Fine no high winds</td>\n",
       "      <td>Car</td>\n",
       "    </tr>\n",
       "    <tr>\n",
       "      <th>660676</th>\n",
       "      <td>201091NM01935</td>\n",
       "      <td>Slight</td>\n",
       "      <td>23-02-2022</td>\n",
       "      <td>57.585044</td>\n",
       "      <td>Daylight</td>\n",
       "      <td>Highland</td>\n",
       "      <td>-3.862727</td>\n",
       "      <td>1</td>\n",
       "      <td>3</td>\n",
       "      <td>Frost or ice</td>\n",
       "      <td>Single carriageway</td>\n",
       "      <td>Rural</td>\n",
       "      <td>Fine no high winds</td>\n",
       "      <td>Car</td>\n",
       "    </tr>\n",
       "    <tr>\n",
       "      <th>660677</th>\n",
       "      <td>201091NM01964</td>\n",
       "      <td>Serious</td>\n",
       "      <td>23-02-2022</td>\n",
       "      <td>57.214898</td>\n",
       "      <td>Darkness - no lighting</td>\n",
       "      <td>Highland</td>\n",
       "      <td>-3.823997</td>\n",
       "      <td>1</td>\n",
       "      <td>2</td>\n",
       "      <td>Wet or damp</td>\n",
       "      <td>Single carriageway</td>\n",
       "      <td>Rural</td>\n",
       "      <td>Fine no high winds</td>\n",
       "      <td>Motorcycle over 500cc</td>\n",
       "    </tr>\n",
       "    <tr>\n",
       "      <th>660678</th>\n",
       "      <td>201091NM02142</td>\n",
       "      <td>Serious</td>\n",
       "      <td>28-02-2022</td>\n",
       "      <td>57.575210</td>\n",
       "      <td>Daylight</td>\n",
       "      <td>Highland</td>\n",
       "      <td>-3.895673</td>\n",
       "      <td>1</td>\n",
       "      <td>1</td>\n",
       "      <td>Wet or damp</td>\n",
       "      <td>Dual carriageway</td>\n",
       "      <td>Rural</td>\n",
       "      <td>Snowing no high winds</td>\n",
       "      <td>Car</td>\n",
       "    </tr>\n",
       "  </tbody>\n",
       "</table>\n",
       "<p>660679 rows × 14 columns</p>\n",
       "</div>"
      ],
      "text/plain": [
       "                Index Accident_Severity Accident Date   Latitude  \\\n",
       "0       200701BS64157           Serious      5/6/2019  51.506187   \n",
       "1       200701BS65737           Serious      2/7/2019  51.495029   \n",
       "2       200701BS66127           Serious    26-08-2019  51.517715   \n",
       "3       200701BS66128           Serious    16-08-2019  51.495478   \n",
       "4       200701BS66837            Slight      3/9/2019  51.488576   \n",
       "...               ...               ...           ...        ...   \n",
       "660674  201091NM01760            Slight    18-02-2022  57.374005   \n",
       "660675  201091NM01881            Slight    21-02-2022  57.232273   \n",
       "660676  201091NM01935            Slight    23-02-2022  57.585044   \n",
       "660677  201091NM01964           Serious    23-02-2022  57.214898   \n",
       "660678  201091NM02142           Serious    28-02-2022  57.575210   \n",
       "\n",
       "                   Light_Conditions           District Area  Longitude  \\\n",
       "0             Darkness - lights lit  Kensington and Chelsea  -0.209082   \n",
       "1                          Daylight  Kensington and Chelsea  -0.173647   \n",
       "2       Darkness - lighting unknown  Kensington and Chelsea  -0.210215   \n",
       "3                          Daylight  Kensington and Chelsea  -0.202731   \n",
       "4             Darkness - lights lit  Kensington and Chelsea  -0.192487   \n",
       "...                             ...                     ...        ...   \n",
       "660674                     Daylight                Highland  -3.467828   \n",
       "660675       Darkness - no lighting                Highland  -3.809281   \n",
       "660676                     Daylight                Highland  -3.862727   \n",
       "660677       Darkness - no lighting                Highland  -3.823997   \n",
       "660678                     Daylight                Highland  -3.895673   \n",
       "\n",
       "        Number_of_Casualties  Number_of_Vehicles Road_Surface_Conditions  \\\n",
       "0                          1                   2                     Dry   \n",
       "1                          1                   2             Wet or damp   \n",
       "2                          1                   3                     Dry   \n",
       "3                          1                   4                     Dry   \n",
       "4                          1                   2                     Dry   \n",
       "...                      ...                 ...                     ...   \n",
       "660674                     2                   1                     Dry   \n",
       "660675                     1                   1            Frost or ice   \n",
       "660676                     1                   3            Frost or ice   \n",
       "660677                     1                   2             Wet or damp   \n",
       "660678                     1                   1             Wet or damp   \n",
       "\n",
       "                 Road_Type Urban_or_Rural_Area     Weather_Conditions  \\\n",
       "0       Single carriageway               Urban     Fine no high winds   \n",
       "1       Single carriageway               Urban  Raining no high winds   \n",
       "2                      NaN               Urban                    NaN   \n",
       "3       Single carriageway               Urban     Fine no high winds   \n",
       "4                      NaN               Urban                    NaN   \n",
       "...                    ...                 ...                    ...   \n",
       "660674  Single carriageway               Rural     Fine no high winds   \n",
       "660675  Single carriageway               Rural     Fine no high winds   \n",
       "660676  Single carriageway               Rural     Fine no high winds   \n",
       "660677  Single carriageway               Rural     Fine no high winds   \n",
       "660678    Dual carriageway               Rural  Snowing no high winds   \n",
       "\n",
       "                                Vehicle_Type  \n",
       "0                                        Car  \n",
       "1                                        Car  \n",
       "2                      Taxi/Private hire car  \n",
       "3       Bus or coach (17 or more pass seats)  \n",
       "4                              Other vehicle  \n",
       "...                                      ...  \n",
       "660674                                   Car  \n",
       "660675                                   Car  \n",
       "660676                                   Car  \n",
       "660677                 Motorcycle over 500cc  \n",
       "660678                                   Car  \n",
       "\n",
       "[660679 rows x 14 columns]"
      ]
     },
     "execution_count": 5,
     "metadata": {},
     "output_type": "execute_result"
    }
   ],
   "source": [
    "roadacc"
   ]
  },
  {
   "cell_type": "code",
   "execution_count": 7,
   "id": "1af939fc-e369-4e6b-bb4b-17c44bf678ea",
   "metadata": {},
   "outputs": [
    {
     "data": {
      "text/html": [
       "<div>\n",
       "<style scoped>\n",
       "    .dataframe tbody tr th:only-of-type {\n",
       "        vertical-align: middle;\n",
       "    }\n",
       "\n",
       "    .dataframe tbody tr th {\n",
       "        vertical-align: top;\n",
       "    }\n",
       "\n",
       "    .dataframe thead th {\n",
       "        text-align: right;\n",
       "    }\n",
       "</style>\n",
       "<table border=\"1\" class=\"dataframe\">\n",
       "  <thead>\n",
       "    <tr style=\"text-align: right;\">\n",
       "      <th></th>\n",
       "      <th>Latitude</th>\n",
       "      <th>Longitude</th>\n",
       "      <th>Number_of_Casualties</th>\n",
       "      <th>Number_of_Vehicles</th>\n",
       "    </tr>\n",
       "  </thead>\n",
       "  <tbody>\n",
       "    <tr>\n",
       "      <th>count</th>\n",
       "      <td>660654.000000</td>\n",
       "      <td>660653.000000</td>\n",
       "      <td>660679.000000</td>\n",
       "      <td>660679.000000</td>\n",
       "    </tr>\n",
       "    <tr>\n",
       "      <th>mean</th>\n",
       "      <td>52.553866</td>\n",
       "      <td>-1.431210</td>\n",
       "      <td>1.357040</td>\n",
       "      <td>1.831255</td>\n",
       "    </tr>\n",
       "    <tr>\n",
       "      <th>std</th>\n",
       "      <td>1.406922</td>\n",
       "      <td>1.383330</td>\n",
       "      <td>0.824847</td>\n",
       "      <td>0.715269</td>\n",
       "    </tr>\n",
       "    <tr>\n",
       "      <th>min</th>\n",
       "      <td>49.914430</td>\n",
       "      <td>-7.516225</td>\n",
       "      <td>1.000000</td>\n",
       "      <td>1.000000</td>\n",
       "    </tr>\n",
       "    <tr>\n",
       "      <th>25%</th>\n",
       "      <td>51.490690</td>\n",
       "      <td>-2.332291</td>\n",
       "      <td>1.000000</td>\n",
       "      <td>1.000000</td>\n",
       "    </tr>\n",
       "    <tr>\n",
       "      <th>50%</th>\n",
       "      <td>52.315641</td>\n",
       "      <td>-1.411667</td>\n",
       "      <td>1.000000</td>\n",
       "      <td>2.000000</td>\n",
       "    </tr>\n",
       "    <tr>\n",
       "      <th>75%</th>\n",
       "      <td>53.453452</td>\n",
       "      <td>-0.232869</td>\n",
       "      <td>1.000000</td>\n",
       "      <td>2.000000</td>\n",
       "    </tr>\n",
       "    <tr>\n",
       "      <th>max</th>\n",
       "      <td>60.757544</td>\n",
       "      <td>1.762010</td>\n",
       "      <td>68.000000</td>\n",
       "      <td>32.000000</td>\n",
       "    </tr>\n",
       "  </tbody>\n",
       "</table>\n",
       "</div>"
      ],
      "text/plain": [
       "            Latitude      Longitude  Number_of_Casualties  Number_of_Vehicles\n",
       "count  660654.000000  660653.000000         660679.000000       660679.000000\n",
       "mean       52.553866      -1.431210              1.357040            1.831255\n",
       "std         1.406922       1.383330              0.824847            0.715269\n",
       "min        49.914430      -7.516225              1.000000            1.000000\n",
       "25%        51.490690      -2.332291              1.000000            1.000000\n",
       "50%        52.315641      -1.411667              1.000000            2.000000\n",
       "75%        53.453452      -0.232869              1.000000            2.000000\n",
       "max        60.757544       1.762010             68.000000           32.000000"
      ]
     },
     "execution_count": 7,
     "metadata": {},
     "output_type": "execute_result"
    }
   ],
   "source": [
    "roadacc.describe()"
   ]
  },
  {
   "cell_type": "code",
   "execution_count": 20,
   "id": "b34592f1-3bb6-482f-8cab-457f0b6827a1",
   "metadata": {},
   "outputs": [
    {
     "data": {
      "text/html": [
       "<div>\n",
       "<style scoped>\n",
       "    .dataframe tbody tr th:only-of-type {\n",
       "        vertical-align: middle;\n",
       "    }\n",
       "\n",
       "    .dataframe tbody tr th {\n",
       "        vertical-align: top;\n",
       "    }\n",
       "\n",
       "    .dataframe thead th {\n",
       "        text-align: right;\n",
       "    }\n",
       "</style>\n",
       "<table border=\"1\" class=\"dataframe\">\n",
       "  <thead>\n",
       "    <tr style=\"text-align: right;\">\n",
       "      <th></th>\n",
       "      <th>Latitude</th>\n",
       "      <th>Longitude</th>\n",
       "      <th>Number_of_Casualties</th>\n",
       "      <th>Number_of_Vehicles</th>\n",
       "    </tr>\n",
       "  </thead>\n",
       "  <tbody>\n",
       "    <tr>\n",
       "      <th>count</th>\n",
       "      <td>2799.000000</td>\n",
       "      <td>2799.000000</td>\n",
       "      <td>2799.000000</td>\n",
       "      <td>2799.000000</td>\n",
       "    </tr>\n",
       "    <tr>\n",
       "      <th>mean</th>\n",
       "      <td>51.497737</td>\n",
       "      <td>-0.187237</td>\n",
       "      <td>1.136120</td>\n",
       "      <td>1.759914</td>\n",
       "    </tr>\n",
       "    <tr>\n",
       "      <th>std</th>\n",
       "      <td>0.011786</td>\n",
       "      <td>0.017784</td>\n",
       "      <td>0.497721</td>\n",
       "      <td>0.595030</td>\n",
       "    </tr>\n",
       "    <tr>\n",
       "      <th>min</th>\n",
       "      <td>51.477465</td>\n",
       "      <td>-0.226487</td>\n",
       "      <td>1.000000</td>\n",
       "      <td>1.000000</td>\n",
       "    </tr>\n",
       "    <tr>\n",
       "      <th>25%</th>\n",
       "      <td>51.488894</td>\n",
       "      <td>-0.200906</td>\n",
       "      <td>1.000000</td>\n",
       "      <td>1.000000</td>\n",
       "    </tr>\n",
       "    <tr>\n",
       "      <th>50%</th>\n",
       "      <td>51.495570</td>\n",
       "      <td>-0.186906</td>\n",
       "      <td>1.000000</td>\n",
       "      <td>2.000000</td>\n",
       "    </tr>\n",
       "    <tr>\n",
       "      <th>75%</th>\n",
       "      <td>51.505573</td>\n",
       "      <td>-0.173500</td>\n",
       "      <td>1.000000</td>\n",
       "      <td>2.000000</td>\n",
       "    </tr>\n",
       "    <tr>\n",
       "      <th>max</th>\n",
       "      <td>51.529692</td>\n",
       "      <td>-0.149820</td>\n",
       "      <td>11.000000</td>\n",
       "      <td>9.000000</td>\n",
       "    </tr>\n",
       "  </tbody>\n",
       "</table>\n",
       "</div>"
      ],
      "text/plain": [
       "          Latitude    Longitude  Number_of_Casualties  Number_of_Vehicles\n",
       "count  2799.000000  2799.000000           2799.000000         2799.000000\n",
       "mean     51.497737    -0.187237              1.136120            1.759914\n",
       "std       0.011786     0.017784              0.497721            0.595030\n",
       "min      51.477465    -0.226487              1.000000            1.000000\n",
       "25%      51.488894    -0.200906              1.000000            1.000000\n",
       "50%      51.495570    -0.186906              1.000000            2.000000\n",
       "75%      51.505573    -0.173500              1.000000            2.000000\n",
       "max      51.529692    -0.149820             11.000000            9.000000"
      ]
     },
     "execution_count": 20,
     "metadata": {},
     "output_type": "execute_result"
    }
   ],
   "source": [
    "kac_ac = roadacc[roadacc['District Area'] == \"Kensington and Chelsea\"].describe()\n",
    "kac_ac"
   ]
  },
  {
   "cell_type": "code",
   "execution_count": 17,
   "id": "b8940a7e-c0aa-44cc-9bfd-ac40f5c9f63e",
   "metadata": {},
   "outputs": [
    {
     "data": {
      "text/html": [
       "<div>\n",
       "<style scoped>\n",
       "    .dataframe tbody tr th:only-of-type {\n",
       "        vertical-align: middle;\n",
       "    }\n",
       "\n",
       "    .dataframe tbody tr th {\n",
       "        vertical-align: top;\n",
       "    }\n",
       "\n",
       "    .dataframe thead th {\n",
       "        text-align: right;\n",
       "    }\n",
       "</style>\n",
       "<table border=\"1\" class=\"dataframe\">\n",
       "  <thead>\n",
       "    <tr style=\"text-align: right;\">\n",
       "      <th></th>\n",
       "      <th>Index</th>\n",
       "      <th>Accident_Severity</th>\n",
       "      <th>Accident Date</th>\n",
       "      <th>Latitude</th>\n",
       "      <th>Light_Conditions</th>\n",
       "      <th>District Area</th>\n",
       "      <th>Longitude</th>\n",
       "      <th>Number_of_Casualties</th>\n",
       "      <th>Number_of_Vehicles</th>\n",
       "      <th>Road_Surface_Conditions</th>\n",
       "      <th>Road_Type</th>\n",
       "      <th>Urban_or_Rural_Area</th>\n",
       "      <th>Weather_Conditions</th>\n",
       "      <th>Vehicle_Type</th>\n",
       "    </tr>\n",
       "  </thead>\n",
       "  <tbody>\n",
       "    <tr>\n",
       "      <th>51</th>\n",
       "      <td>200701BS70035</td>\n",
       "      <td>Slight</td>\n",
       "      <td>28-01-2019</td>\n",
       "      <td>51.527693</td>\n",
       "      <td>Darkness - lights lit</td>\n",
       "      <td>Westminster</td>\n",
       "      <td>-0.215879</td>\n",
       "      <td>3</td>\n",
       "      <td>3</td>\n",
       "      <td>Dry</td>\n",
       "      <td>Single carriageway</td>\n",
       "      <td>Urban</td>\n",
       "      <td>Fine no high winds</td>\n",
       "      <td>Taxi/Private hire car</td>\n",
       "    </tr>\n",
       "    <tr>\n",
       "      <th>105</th>\n",
       "      <td>200701BS70092</td>\n",
       "      <td>Slight</td>\n",
       "      <td>24-02-2019</td>\n",
       "      <td>51.501749</td>\n",
       "      <td>Darkness - lights lit</td>\n",
       "      <td>Westminster</td>\n",
       "      <td>-0.160555</td>\n",
       "      <td>2</td>\n",
       "      <td>2</td>\n",
       "      <td>Dry</td>\n",
       "      <td>Dual carriageway</td>\n",
       "      <td>Urban</td>\n",
       "      <td>Fine no high winds</td>\n",
       "      <td>Car</td>\n",
       "    </tr>\n",
       "    <tr>\n",
       "      <th>131</th>\n",
       "      <td>200701BS70127</td>\n",
       "      <td>Slight</td>\n",
       "      <td>14-02-2019</td>\n",
       "      <td>51.501910</td>\n",
       "      <td>Daylight</td>\n",
       "      <td>Westminster</td>\n",
       "      <td>-0.159396</td>\n",
       "      <td>3</td>\n",
       "      <td>2</td>\n",
       "      <td>Dry</td>\n",
       "      <td>Single carriageway</td>\n",
       "      <td>Urban</td>\n",
       "      <td>Fine no high winds</td>\n",
       "      <td>Car</td>\n",
       "    </tr>\n",
       "    <tr>\n",
       "      <th>171</th>\n",
       "      <td>200701BS70173</td>\n",
       "      <td>Slight</td>\n",
       "      <td>26-03-2019</td>\n",
       "      <td>51.520533</td>\n",
       "      <td>Daylight</td>\n",
       "      <td>Westminster</td>\n",
       "      <td>-0.200447</td>\n",
       "      <td>1</td>\n",
       "      <td>1</td>\n",
       "      <td>Dry</td>\n",
       "      <td>Single carriageway</td>\n",
       "      <td>Urban</td>\n",
       "      <td>Fine no high winds</td>\n",
       "      <td>Bus or coach (17 or more pass seats)</td>\n",
       "    </tr>\n",
       "    <tr>\n",
       "      <th>212</th>\n",
       "      <td>200701BS70218</td>\n",
       "      <td>Slight</td>\n",
       "      <td>29-04-2019</td>\n",
       "      <td>51.527785</td>\n",
       "      <td>Darkness - lights lit</td>\n",
       "      <td>Westminster</td>\n",
       "      <td>-0.216020</td>\n",
       "      <td>1</td>\n",
       "      <td>2</td>\n",
       "      <td>Dry</td>\n",
       "      <td>Single carriageway</td>\n",
       "      <td>Urban</td>\n",
       "      <td>Fine no high winds</td>\n",
       "      <td>Car</td>\n",
       "    </tr>\n",
       "    <tr>\n",
       "      <th>...</th>\n",
       "      <td>...</td>\n",
       "      <td>...</td>\n",
       "      <td>...</td>\n",
       "      <td>...</td>\n",
       "      <td>...</td>\n",
       "      <td>...</td>\n",
       "      <td>...</td>\n",
       "      <td>...</td>\n",
       "      <td>...</td>\n",
       "      <td>...</td>\n",
       "      <td>...</td>\n",
       "      <td>...</td>\n",
       "      <td>...</td>\n",
       "      <td>...</td>\n",
       "    </tr>\n",
       "    <tr>\n",
       "      <th>532986</th>\n",
       "      <td>201001TB00647</td>\n",
       "      <td>Slight</td>\n",
       "      <td>3/10/2022</td>\n",
       "      <td>51.511055</td>\n",
       "      <td>Darkness - lights lit</td>\n",
       "      <td>Westminster</td>\n",
       "      <td>-0.129195</td>\n",
       "      <td>1</td>\n",
       "      <td>1</td>\n",
       "      <td>Dry</td>\n",
       "      <td>Single carriageway</td>\n",
       "      <td>Urban</td>\n",
       "      <td>Fine no high winds</td>\n",
       "      <td>Car</td>\n",
       "    </tr>\n",
       "    <tr>\n",
       "      <th>533004</th>\n",
       "      <td>201001TB00669</td>\n",
       "      <td>Slight</td>\n",
       "      <td>29-09-2022</td>\n",
       "      <td>51.520511</td>\n",
       "      <td>Daylight</td>\n",
       "      <td>Westminster</td>\n",
       "      <td>-0.181565</td>\n",
       "      <td>1</td>\n",
       "      <td>2</td>\n",
       "      <td>Wet or damp</td>\n",
       "      <td>Single carriageway</td>\n",
       "      <td>Urban</td>\n",
       "      <td>Raining no high winds</td>\n",
       "      <td>Car</td>\n",
       "    </tr>\n",
       "    <tr>\n",
       "      <th>533006</th>\n",
       "      <td>201001TB00671</td>\n",
       "      <td>Slight</td>\n",
       "      <td>9/10/2022</td>\n",
       "      <td>51.511714</td>\n",
       "      <td>Daylight</td>\n",
       "      <td>Westminster</td>\n",
       "      <td>-0.188401</td>\n",
       "      <td>1</td>\n",
       "      <td>1</td>\n",
       "      <td>Dry</td>\n",
       "      <td>Single carriageway</td>\n",
       "      <td>Urban</td>\n",
       "      <td>Fine no high winds</td>\n",
       "      <td>Car</td>\n",
       "    </tr>\n",
       "    <tr>\n",
       "      <th>533008</th>\n",
       "      <td>201001TB00673</td>\n",
       "      <td>Slight</td>\n",
       "      <td>2/10/2022</td>\n",
       "      <td>51.517462</td>\n",
       "      <td>Daylight</td>\n",
       "      <td>Westminster</td>\n",
       "      <td>-0.182119</td>\n",
       "      <td>1</td>\n",
       "      <td>2</td>\n",
       "      <td>Dry</td>\n",
       "      <td>Single carriageway</td>\n",
       "      <td>Urban</td>\n",
       "      <td>Fine no high winds</td>\n",
       "      <td>Car</td>\n",
       "    </tr>\n",
       "    <tr>\n",
       "      <th>533070</th>\n",
       "      <td>201001TB00765</td>\n",
       "      <td>Slight</td>\n",
       "      <td>17-10-2022</td>\n",
       "      <td>51.520945</td>\n",
       "      <td>Darkness - lights lit</td>\n",
       "      <td>Westminster</td>\n",
       "      <td>-0.180539</td>\n",
       "      <td>1</td>\n",
       "      <td>2</td>\n",
       "      <td>Dry</td>\n",
       "      <td>Roundabout</td>\n",
       "      <td>Urban</td>\n",
       "      <td>Fine no high winds</td>\n",
       "      <td>Van / Goods 3.5 tonnes mgw or under</td>\n",
       "    </tr>\n",
       "  </tbody>\n",
       "</table>\n",
       "<p>5706 rows × 14 columns</p>\n",
       "</div>"
      ],
      "text/plain": [
       "                Index Accident_Severity Accident Date   Latitude  \\\n",
       "51      200701BS70035            Slight    28-01-2019  51.527693   \n",
       "105     200701BS70092            Slight    24-02-2019  51.501749   \n",
       "131     200701BS70127            Slight    14-02-2019  51.501910   \n",
       "171     200701BS70173            Slight    26-03-2019  51.520533   \n",
       "212     200701BS70218            Slight    29-04-2019  51.527785   \n",
       "...               ...               ...           ...        ...   \n",
       "532986  201001TB00647            Slight     3/10/2022  51.511055   \n",
       "533004  201001TB00669            Slight    29-09-2022  51.520511   \n",
       "533006  201001TB00671            Slight     9/10/2022  51.511714   \n",
       "533008  201001TB00673            Slight     2/10/2022  51.517462   \n",
       "533070  201001TB00765            Slight    17-10-2022  51.520945   \n",
       "\n",
       "             Light_Conditions District Area  Longitude  Number_of_Casualties  \\\n",
       "51      Darkness - lights lit   Westminster  -0.215879                     3   \n",
       "105     Darkness - lights lit   Westminster  -0.160555                     2   \n",
       "131                  Daylight   Westminster  -0.159396                     3   \n",
       "171                  Daylight   Westminster  -0.200447                     1   \n",
       "212     Darkness - lights lit   Westminster  -0.216020                     1   \n",
       "...                       ...           ...        ...                   ...   \n",
       "532986  Darkness - lights lit   Westminster  -0.129195                     1   \n",
       "533004               Daylight   Westminster  -0.181565                     1   \n",
       "533006               Daylight   Westminster  -0.188401                     1   \n",
       "533008               Daylight   Westminster  -0.182119                     1   \n",
       "533070  Darkness - lights lit   Westminster  -0.180539                     1   \n",
       "\n",
       "        Number_of_Vehicles Road_Surface_Conditions           Road_Type  \\\n",
       "51                       3                     Dry  Single carriageway   \n",
       "105                      2                     Dry    Dual carriageway   \n",
       "131                      2                     Dry  Single carriageway   \n",
       "171                      1                     Dry  Single carriageway   \n",
       "212                      2                     Dry  Single carriageway   \n",
       "...                    ...                     ...                 ...   \n",
       "532986                   1                     Dry  Single carriageway   \n",
       "533004                   2             Wet or damp  Single carriageway   \n",
       "533006                   1                     Dry  Single carriageway   \n",
       "533008                   2                     Dry  Single carriageway   \n",
       "533070                   2                     Dry          Roundabout   \n",
       "\n",
       "       Urban_or_Rural_Area     Weather_Conditions  \\\n",
       "51                   Urban     Fine no high winds   \n",
       "105                  Urban     Fine no high winds   \n",
       "131                  Urban     Fine no high winds   \n",
       "171                  Urban     Fine no high winds   \n",
       "212                  Urban     Fine no high winds   \n",
       "...                    ...                    ...   \n",
       "532986               Urban     Fine no high winds   \n",
       "533004               Urban  Raining no high winds   \n",
       "533006               Urban     Fine no high winds   \n",
       "533008               Urban     Fine no high winds   \n",
       "533070               Urban     Fine no high winds   \n",
       "\n",
       "                                Vehicle_Type  \n",
       "51                     Taxi/Private hire car  \n",
       "105                                      Car  \n",
       "131                                      Car  \n",
       "171     Bus or coach (17 or more pass seats)  \n",
       "212                                      Car  \n",
       "...                                      ...  \n",
       "532986                                   Car  \n",
       "533004                                   Car  \n",
       "533006                                   Car  \n",
       "533008                                   Car  \n",
       "533070   Van / Goods 3.5 tonnes mgw or under  \n",
       "\n",
       "[5706 rows x 14 columns]"
      ]
     },
     "execution_count": 17,
     "metadata": {},
     "output_type": "execute_result"
    }
   ],
   "source": [
    "west_ac = roadacc[roadacc['District Area'] == \"Westminster\"]\n",
    "west_ac"
   ]
  },
  {
   "cell_type": "markdown",
   "id": "eaff3326-e30a-4ed1-a6d9-933df4a4e156",
   "metadata": {},
   "source": [
    "<h1>Questions</h1>\n",
    "<br>\n",
    "<p>1. How many fatal accidents happened in a Dry road condition? </p>\n",
    "<p>2. What road condintion has the most frequent accidents? </p>\n",
    "<p>3. What is the most common accident severity? </p>"
   ]
  },
  {
   "cell_type": "markdown",
   "id": "ac43a78e-749b-4dee-b77a-f57611510d45",
   "metadata": {},
   "source": [
    "<h2>1. How many fatal accidents happened in a Dry road condition?</h2>"
   ]
  },
  {
   "cell_type": "code",
   "execution_count": 37,
   "id": "d1115434-1b37-43cf-801c-3e9b674edcd9",
   "metadata": {},
   "outputs": [
    {
     "data": {
      "text/plain": [
       "Road_Surface_Conditions\n",
       "Dry                     5788\n",
       "Wet or damp             2620\n",
       "Frost or ice             193\n",
       "Snow                      35\n",
       "Flood over 3cm. deep      23\n",
       "Name: count, dtype: int64"
      ]
     },
     "execution_count": 37,
     "metadata": {},
     "output_type": "execute_result"
    }
   ],
   "source": [
    "fatal = roadacc[roadacc['Accident_Severity'] == \"Fatal\"]['Road_Surface_Conditions'].value_counts()\n",
    "fatal"
   ]
  },
  {
   "cell_type": "markdown",
   "id": "7f7eff45-301a-461d-bebc-4e2c4105a2e6",
   "metadata": {},
   "source": [
    "<h3>Insights: A total of 5788 fatal accident</h3>\n"
   ]
  },
  {
   "cell_type": "markdown",
   "id": "9eb381e9-f40c-4263-90d2-8f32cc87cfa6",
   "metadata": {},
   "source": [
    "<h2>2. What road condintion has the most frequent accidents?</h2>"
   ]
  },
  {
   "cell_type": "code",
   "execution_count": 41,
   "id": "217eeb2c-6150-4e25-bfc8-0553d0425a3c",
   "metadata": {},
   "outputs": [
    {
     "data": {
      "text/plain": [
       "Road_Surface_Conditions\n",
       "Dry                     447821\n",
       "Wet or damp             186708\n",
       "Frost or ice             18517\n",
       "Snow                      5890\n",
       "Flood over 3cm. deep      1017\n",
       "Name: count, dtype: int64"
      ]
     },
     "execution_count": 41,
     "metadata": {},
     "output_type": "execute_result"
    }
   ],
   "source": [
    "frequent_accident = roadacc['Road_Surface_Conditions'].value_counts()\n",
    "frequent_accident"
   ]
  },
  {
   "cell_type": "markdown",
   "id": "1f14eef0-4af4-48bb-865d-7845f030c0da",
   "metadata": {},
   "source": [
    "<h3>Insights: Dry road surface has the most accidents</h3>"
   ]
  },
  {
   "cell_type": "markdown",
   "id": "efba8064-8b39-4065-9d45-826dc85bf4a1",
   "metadata": {},
   "source": [
    "<h2>3. What is the most common accident severity?</h2>"
   ]
  },
  {
   "cell_type": "code",
   "execution_count": 85,
   "id": "0ba87f16-f560-4095-b09e-b968e745103d",
   "metadata": {},
   "outputs": [
    {
     "data": {
      "text/plain": [
       "Accident_Severity\n",
       "Slight     563801\n",
       "Serious     88217\n",
       "Fatal        8661\n",
       "Name: count, dtype: int64"
      ]
     },
     "execution_count": 85,
     "metadata": {},
     "output_type": "execute_result"
    }
   ],
   "source": [
    "roadacc[\"Accident_Severity\"].value_counts()"
   ]
  },
  {
   "cell_type": "markdown",
   "id": "60030895-e61c-4052-86d7-7b70a91cc00d",
   "metadata": {},
   "source": [
    "<h3>Insights: Slight severity is the most common accident</h3>"
   ]
  },
  {
   "cell_type": "markdown",
   "id": "246d5271-f907-4d57-aac4-c74207a8179a",
   "metadata": {},
   "source": [
    "<h2>4. How many casualties are there in total?</h2>"
   ]
  },
  {
   "cell_type": "code",
   "execution_count": 86,
   "id": "4bcfad30-27eb-466b-ac4f-594abc0f668d",
   "metadata": {},
   "outputs": [
    {
     "data": {
      "text/plain": [
       "np.int64(896568)"
      ]
     },
     "execution_count": 86,
     "metadata": {},
     "output_type": "execute_result"
    }
   ],
   "source": [
    "roadacc[\"Number_of_Casualties\"].sum()"
   ]
  },
  {
   "cell_type": "markdown",
   "id": "92413257-dfca-4e5f-91ab-4c8e63da9dc3",
   "metadata": {},
   "source": [
    "<h3>Insights: There are a total of 896,568 casualties</h3>"
   ]
  },
  {
   "cell_type": "markdown",
   "id": "6816620d-2f2a-42cf-af37-1ea6ef918840",
   "metadata": {},
   "source": [
    "<h2>5. What is the average number of casualties per accident?</h2>"
   ]
  },
  {
   "cell_type": "code",
   "execution_count": 87,
   "id": "0fc6e57f-09fa-47d8-b0e8-f81039792f6f",
   "metadata": {},
   "outputs": [
    {
     "data": {
      "text/plain": [
       "np.float64(1.357040257068864)"
      ]
     },
     "execution_count": 87,
     "metadata": {},
     "output_type": "execute_result"
    }
   ],
   "source": [
    "roadacc[\"Number_of_Casualties\"].mean()"
   ]
  },
  {
   "cell_type": "markdown",
   "id": "879af3f7-20e5-4e67-bf51-d580bc89b6c1",
   "metadata": {},
   "source": [
    "<h3>Insights: There are a total of 1.357040257068864 casualties per accident</h3>"
   ]
  },
  {
   "cell_type": "markdown",
   "id": "39e443c8-98d4-4338-807e-44fe2b4d4b8a",
   "metadata": {},
   "source": [
    "<h2>6. What area has the most accidents?</h2>"
   ]
  },
  {
   "cell_type": "code",
   "execution_count": 89,
   "id": "a9cbcf56-b254-46de-8e60-450d62824ef2",
   "metadata": {},
   "outputs": [
    {
     "data": {
      "text/plain": [
       "Urban_or_Rural_Area\n",
       "Urban          421663\n",
       "Rural          238990\n",
       "Unallocated        11\n",
       "Name: count, dtype: int64"
      ]
     },
     "execution_count": 89,
     "metadata": {},
     "output_type": "execute_result"
    }
   ],
   "source": [
    "roadacc[\"Urban_or_Rural_Area\"].value_counts()"
   ]
  },
  {
   "cell_type": "markdown",
   "id": "afc95099-80a9-46be-b953-e2a8419a123c",
   "metadata": {},
   "source": [
    "<h3>Insights: Urban has the most accidents</h3>"
   ]
  },
  {
   "cell_type": "markdown",
   "id": "9608fe2f-5af5-4975-b640-46f4e2f0068b",
   "metadata": {},
   "source": [
    "<h2>7. Which district has the most accidents?</h2>"
   ]
  },
  {
   "cell_type": "code",
   "execution_count": 90,
   "id": "3f1d5117-9fd3-4dfc-920f-79ca124d2e08",
   "metadata": {},
   "outputs": [
    {
     "data": {
      "text/plain": [
       "District Area\n",
       "Birmingham            13491\n",
       "Leeds                  8898\n",
       "Manchester             6720\n",
       "Bradford               6212\n",
       "Sheffield              5710\n",
       "                      ...  \n",
       "Berwick-upon-Tweed      153\n",
       "Teesdale                142\n",
       "Shetland Islands        133\n",
       "Orkney Islands          117\n",
       "Clackmannanshire         91\n",
       "Name: count, Length: 422, dtype: int64"
      ]
     },
     "execution_count": 90,
     "metadata": {},
     "output_type": "execute_result"
    }
   ],
   "source": [
    "roadacc[\"District Area\"].value_counts()"
   ]
  },
  {
   "cell_type": "markdown",
   "id": "c657501d-488b-4f41-8faf-e9f42e2976d9",
   "metadata": {},
   "source": [
    "<h3>Insights: Birmingham district has the most accidents</h3>"
   ]
  },
  {
   "cell_type": "markdown",
   "id": "b82d76b1-550e-446b-9152-7b179238f071",
   "metadata": {},
   "source": [
    "<h2>8. What is the most common weather condition during accidents?</h2>"
   ]
  },
  {
   "cell_type": "code",
   "execution_count": 93,
   "id": "fe58844e-7fe0-4d3c-8e17-410d954126bd",
   "metadata": {},
   "outputs": [
    {
     "data": {
      "text/plain": [
       "Weather_Conditions\n",
       "Fine no high winds       520885\n",
       "Raining no high winds     79696\n",
       "Other                     17150\n",
       "Raining + high winds       9615\n",
       "Fine + high winds          8554\n",
       "Snowing no high winds      6238\n",
       "Fog or mist                3528\n",
       "Snowing + high winds        885\n",
       "Name: count, dtype: int64"
      ]
     },
     "execution_count": 93,
     "metadata": {},
     "output_type": "execute_result"
    }
   ],
   "source": [
    "roadacc[\"Weather_Conditions\"].value_counts()"
   ]
  },
  {
   "cell_type": "markdown",
   "id": "7e0fc9db-c700-4aad-a8bb-d07340db40a9",
   "metadata": {},
   "source": [
    "<h3>Insights: Fine no high winds is the most common weather condition during accidents</h3>"
   ]
  },
  {
   "cell_type": "markdown",
   "id": "5999eacc-7181-43ca-a8bc-c0da1a78f194",
   "metadata": {},
   "source": [
    "<h2>9. Which road type has the most accidents?</h2>"
   ]
  },
  {
   "cell_type": "code",
   "execution_count": 95,
   "id": "63c4052b-46fa-4895-90bf-e594d2a56cae",
   "metadata": {},
   "outputs": [
    {
     "data": {
      "text/plain": [
       "Road_Type\n",
       "Single carriageway    492143\n",
       "Dual carriageway       99424\n",
       "Roundabout             43992\n",
       "One way street         13559\n",
       "Slip road               7041\n",
       "Name: count, dtype: int64"
      ]
     },
     "execution_count": 95,
     "metadata": {},
     "output_type": "execute_result"
    }
   ],
   "source": [
    "roadacc[\"Road_Type\"].value_counts()"
   ]
  },
  {
   "cell_type": "markdown",
   "id": "8bb525d4-2eab-4dca-aa11-d339bd4b22ac",
   "metadata": {},
   "source": [
    "<h3>Insights: The road type that has the most accidents is a Single carriageway</h3>"
   ]
  },
  {
   "cell_type": "markdown",
   "id": "4014e3a1-de08-41e0-be4b-2b5c967d142c",
   "metadata": {},
   "source": [
    "<h2>10. Which vehicle type is most involved in accidents?</h2>"
   ]
  },
  {
   "cell_type": "code",
   "execution_count": 97,
   "id": "c17ee615-d6d8-4221-a699-cc018dcfd5ae",
   "metadata": {},
   "outputs": [
    {
     "data": {
      "text/plain": [
       "Vehicle_Type\n",
       "Car                                      497992\n",
       "Van / Goods 3.5 tonnes mgw or under       34160\n",
       "Bus or coach (17 or more pass seats)      25878\n",
       "Motorcycle over 500cc                     25657\n",
       "Goods 7.5 tonnes mgw and over             17307\n",
       "Motorcycle 125cc and under                15269\n",
       "Taxi/Private hire car                     13294\n",
       "Motorcycle over 125cc and up to 500cc      7656\n",
       "Motorcycle 50cc and under                  7603\n",
       "Goods over 3.5t. and under 7.5t            6096\n",
       "Other vehicle                              5637\n",
       "Minibus (8 - 16 passenger seats)           1976\n",
       "Agricultural vehicle                       1947\n",
       "Pedal cycle                                 197\n",
       "Data missing or out of range                  6\n",
       "Ridden horse                                  4\n",
       "Name: count, dtype: int64"
      ]
     },
     "execution_count": 97,
     "metadata": {},
     "output_type": "execute_result"
    }
   ],
   "source": [
    "roadacc[\"Vehicle_Type\"].value_counts()"
   ]
  },
  {
   "cell_type": "markdown",
   "id": "c6093b0d-c663-4d80-8360-d2673115a4db",
   "metadata": {},
   "source": [
    "<h3>Insights: A car is the most vehicle involved in accidents</h3>"
   ]
  },
  {
   "cell_type": "markdown",
   "id": "32fbb49b-89f0-422c-ae9b-adb7077fe0c9",
   "metadata": {},
   "source": [
    "<h2>11. What is the average number of vehicles involved per accident?</h2>"
   ]
  },
  {
   "cell_type": "code",
   "execution_count": 98,
   "id": "272accd2-ed49-4191-a6e2-34f3fcbf6f84",
   "metadata": {},
   "outputs": [
    {
     "data": {
      "text/plain": [
       "np.float64(1.8312554205597575)"
      ]
     },
     "execution_count": 98,
     "metadata": {},
     "output_type": "execute_result"
    }
   ],
   "source": [
    "roadacc[\"Number_of_Vehicles\"].mean()"
   ]
  },
  {
   "cell_type": "markdown",
   "id": "6cfd00f0-dc2b-4ee9-9f1d-6a5197724593",
   "metadata": {},
   "source": [
    "<h3>Insights: The average number of vehicles involved per accident is 1.8312554205597575</h3>"
   ]
  },
  {
   "cell_type": "markdown",
   "id": "13e91c06-b329-496b-9270-3fa513f3ff0e",
   "metadata": {},
   "source": [
    "<h2>12. Which disctrict has the highest total casualties?</h2>"
   ]
  },
  {
   "cell_type": "code",
   "execution_count": 110,
   "id": "df87ab55-be46-4468-9892-abc867f21c6f",
   "metadata": {},
   "outputs": [
    {
     "data": {
      "text/plain": [
       "District Area\n",
       "Aberdeen City    1508\n",
       "Aberdeenshire    2529\n",
       "Adur              817\n",
       "Allerdale        1663\n",
       "Alnwick           351\n",
       "                 ... \n",
       "Wychavon         1943\n",
       "Wycombe          2442\n",
       "Wyre             1706\n",
       "Wyre Forest      1340\n",
       "York             2453\n",
       "Name: Number_of_Casualties, Length: 422, dtype: int64"
      ]
     },
     "execution_count": 110,
     "metadata": {},
     "output_type": "execute_result"
    }
   ],
   "source": [
    "roadacc.groupby(\"District Area\")[\"Number_of_Casualties\"].sum()"
   ]
  },
  {
   "cell_type": "markdown",
   "id": "a92c1f4f-92f9-4d19-aa86-08aa4f1b9328",
   "metadata": {},
   "source": [
    "<h3>Insights: Some districts, like Aberdeenshire, have very high total casualties compared to others.</h3>"
   ]
  },
  {
   "cell_type": "markdown",
   "id": "1234684b-0854-4a9f-84e5-cf23dc830f89",
   "metadata": {},
   "source": [
    "<h2>13. What is the average number of casualties per accident by district?</h2>"
   ]
  },
  {
   "cell_type": "code",
   "execution_count": 112,
   "id": "bee30bf3-246f-40a4-9a74-20f992ace60f",
   "metadata": {},
   "outputs": [
    {
     "data": {
      "text/plain": [
       "District Area\n",
       "Aberdeen City    1.139834\n",
       "Aberdeenshire    1.310363\n",
       "Adur             1.319871\n",
       "Allerdale        1.474291\n",
       "Alnwick          1.512931\n",
       "                   ...   \n",
       "Wychavon         1.427627\n",
       "Wycombe          1.412377\n",
       "Wyre             1.378029\n",
       "Wyre Forest      1.382869\n",
       "York             1.293094\n",
       "Name: Number_of_Casualties, Length: 422, dtype: float64"
      ]
     },
     "execution_count": 112,
     "metadata": {},
     "output_type": "execute_result"
    }
   ],
   "source": [
    "roadacc.groupby(\"District Area\")[\"Number_of_Casualties\"].mean()"
   ]
  },
  {
   "cell_type": "markdown",
   "id": "cc1bc5e1-d6b6-47a2-90b0-1252edee2c78",
   "metadata": {},
   "source": [
    "<h3>Insights: There are some districts that have a higher average per accident</h3>"
   ]
  },
  {
   "cell_type": "markdown",
   "id": "1ea88dc4-e127-4c5b-9acb-29b2c255f36a",
   "metadata": {},
   "source": [
    "<h2>14. What is the average number of casualties per accident by weather condition?</h2>"
   ]
  },
  {
   "cell_type": "code",
   "execution_count": 114,
   "id": "4d651ac8-165c-4c63-941c-7f89ca6a9b4c",
   "metadata": {},
   "outputs": [
    {
     "data": {
      "text/plain": [
       "Weather_Conditions\n",
       "Fine + high winds        1.386018\n",
       "Fine no high winds       1.350480\n",
       "Fog or mist              1.452948\n",
       "Other                    1.354869\n",
       "Raining + high winds     1.416641\n",
       "Raining no high winds    1.408214\n",
       "Snowing + high winds     1.418079\n",
       "Snowing no high winds    1.341776\n",
       "Name: Number_of_Casualties, dtype: float64"
      ]
     },
     "execution_count": 114,
     "metadata": {},
     "output_type": "execute_result"
    }
   ],
   "source": [
    "roadacc.groupby(\"Weather_Conditions\")[\"Number_of_Casualties\"].mean()"
   ]
  },
  {
   "cell_type": "markdown",
   "id": "829062b0-3509-48de-b5b1-6a2a2465e4d8",
   "metadata": {},
   "source": [
    "<h3>Insights: Fog or mist have a higher average number of casualties than the others</h3>"
   ]
  },
  {
   "cell_type": "markdown",
   "id": "e98f157c-eadc-4164-b42c-b8c1dc2cab47",
   "metadata": {},
   "source": [
    "<h2>15. What is the average number of casualties per accident by light condition?</h2>"
   ]
  },
  {
   "cell_type": "code",
   "execution_count": 115,
   "id": "779a8e26-906d-4e8d-9ba2-3b35d8af4546",
   "metadata": {},
   "outputs": [
    {
     "data": {
      "text/plain": [
       "Light_Conditions\n",
       "Darkness - lighting unknown    1.306447\n",
       "Darkness - lights lit          1.369374\n",
       "Darkness - lights unlit        1.331105\n",
       "Darkness - no lighting         1.541657\n",
       "Daylight                       1.340309\n",
       "Name: Number_of_Casualties, dtype: float64"
      ]
     },
     "execution_count": 115,
     "metadata": {},
     "output_type": "execute_result"
    }
   ],
   "source": [
    "roadacc.groupby(\"Light_Conditions\")[\"Number_of_Casualties\"].mean()"
   ]
  },
  {
   "cell_type": "markdown",
   "id": "e2cd0114-6458-4c2c-b0d6-f3fc807049f6",
   "metadata": {},
   "source": [
    "<h3>Insights: Darkness or no lighting causes more accidents</h3>"
   ]
  },
  {
   "cell_type": "markdown",
   "id": "2c22607a-d383-4428-9739-dd01d211c65d",
   "metadata": {},
   "source": [
    "<h2>16. How many fatal accidents by district?</h2>"
   ]
  },
  {
   "cell_type": "code",
   "execution_count": 116,
   "id": "59243356-c3be-4083-ae18-04acb5171db6",
   "metadata": {},
   "outputs": [
    {
     "data": {
      "text/plain": [
       "District Area\n",
       "Birmingham                  105\n",
       "Leeds                        93\n",
       "Highland                     88\n",
       "East Riding of Yorkshire     85\n",
       "Bradford                     71\n",
       "                           ... \n",
       "Havant                        2\n",
       "Orkney Islands                2\n",
       "Harlow                        1\n",
       "Clackmannanshire              1\n",
       "Stevenage                     1\n",
       "Name: count, Length: 422, dtype: int64"
      ]
     },
     "execution_count": 116,
     "metadata": {},
     "output_type": "execute_result"
    }
   ],
   "source": [
    "roadacc[roadacc[\"Accident_Severity\"]==\"Fatal\"][\"District Area\"].value_counts()"
   ]
  },
  {
   "cell_type": "markdown",
   "id": "9da76eba-9d7b-4420-bd2b-466e565855c4",
   "metadata": {},
   "source": [
    "<h3>Insights: Birmingham has the highest number of fatal accidents among all districts.</h3>"
   ]
  },
  {
   "cell_type": "markdown",
   "id": "19615a66-13a8-4828-a22b-c57ef3d597d3",
   "metadata": {},
   "source": [
    "<h2>17. Which weather condition has the most fatal accidents?</h2>"
   ]
  },
  {
   "cell_type": "code",
   "execution_count": 119,
   "id": "fa22d1c9-f3c1-4332-99da-764cbb5c9624",
   "metadata": {},
   "outputs": [
    {
     "data": {
      "text/plain": [
       "Weather_Conditions\n",
       "Fine no high winds       7100\n",
       "Raining no high winds     848\n",
       "Fine + high winds         175\n",
       "Other                     165\n",
       "Raining + high winds      145\n",
       "Fog or mist                82\n",
       "Snowing no high winds      36\n",
       "Snowing + high winds        3\n",
       "Name: count, dtype: int64"
      ]
     },
     "execution_count": 119,
     "metadata": {},
     "output_type": "execute_result"
    }
   ],
   "source": [
    "roadacc[roadacc[\"Accident_Severity\"]==\"Fatal\"][\"Weather_Conditions\"].value_counts()"
   ]
  },
  {
   "cell_type": "markdown",
   "id": "2c6c7a00-fe71-46f6-b295-a2b63d22c2a3",
   "metadata": {},
   "source": [
    "<h3>Insights: Fine no high winds has the most fatal accidents than the other conditions</h3>"
   ]
  },
  {
   "cell_type": "markdown",
   "id": "e90b3004-8302-4f5a-bf48-e9a744d41e38",
   "metadata": {},
   "source": [
    "<h2>18. How many fatal accidents by vehicle type?</h2>"
   ]
  },
  {
   "cell_type": "code",
   "execution_count": 120,
   "id": "c2183d0b-a755-4900-a0bb-9b90033c444f",
   "metadata": {},
   "outputs": [
    {
     "data": {
      "text/plain": [
       "Vehicle_Type\n",
       "Car                                      6577\n",
       "Van / Goods 3.5 tonnes mgw or under       467\n",
       "Motorcycle over 500cc                     339\n",
       "Bus or coach (17 or more pass seats)      325\n",
       "Goods 7.5 tonnes mgw and over             216\n",
       "Motorcycle 125cc and under                189\n",
       "Taxi/Private hire car                     155\n",
       "Motorcycle over 125cc and up to 500cc     105\n",
       "Motorcycle 50cc and under                  95\n",
       "Other vehicle                              70\n",
       "Goods over 3.5t. and under 7.5t            67\n",
       "Minibus (8 - 16 passenger seats)           29\n",
       "Agricultural vehicle                       21\n",
       "Pedal cycle                                 6\n",
       "Name: count, dtype: int64"
      ]
     },
     "execution_count": 120,
     "metadata": {},
     "output_type": "execute_result"
    }
   ],
   "source": [
    "roadacc[roadacc[\"Accident_Severity\"]==\"Fatal\"][\"Vehicle_Type\"].value_counts()"
   ]
  },
  {
   "cell_type": "markdown",
   "id": "c5d6af12-5775-496f-84e4-932b66d6c6c7",
   "metadata": {},
   "source": [
    "<h3>Insights: Cars has the most fatal accidents</h3>"
   ]
  },
  {
   "cell_type": "markdown",
   "id": "6862e2b9-ba38-4840-9c1c-1adbdbbf63cd",
   "metadata": {},
   "source": [
    "<h2>19. How many slight accidents by weather condition?</h2>"
   ]
  },
  {
   "cell_type": "code",
   "execution_count": 121,
   "id": "0a258acb-d7bf-40fd-90f4-841e785a42bd",
   "metadata": {},
   "outputs": [
    {
     "data": {
      "text/plain": [
       "Weather_Conditions\n",
       "Fine no high winds       441739\n",
       "Raining no high winds     69380\n",
       "Other                     15184\n",
       "Raining + high winds       8209\n",
       "Fine + high winds          7134\n",
       "Snowing no high winds      5637\n",
       "Fog or mist                2963\n",
       "Snowing + high winds        773\n",
       "Name: count, dtype: int64"
      ]
     },
     "execution_count": 121,
     "metadata": {},
     "output_type": "execute_result"
    }
   ],
   "source": [
    "roadacc[roadacc[\"Accident_Severity\"]==\"Slight\"][\"Weather_Conditions\"].value_counts()"
   ]
  },
  {
   "cell_type": "markdown",
   "id": "ffe6a61a-d8c9-4870-b029-2c6e548c78b4",
   "metadata": {},
   "source": [
    "<h3>Insights: Just like fatal accidents, Fine no high winds has the most slight accidents than the other conditions</h3>"
   ]
  },
  {
   "cell_type": "markdown",
   "id": "cbc3993f-1430-492e-85cb-8dfc2db69948",
   "metadata": {},
   "source": [
    "<h2>20. Which vehicle type has the most serious accidents?</h2>"
   ]
  },
  {
   "cell_type": "code",
   "execution_count": 122,
   "id": "2aba1411-8b66-4abd-8db5-2f467c597e1a",
   "metadata": {},
   "outputs": [
    {
     "data": {
      "text/plain": [
       "Vehicle_Type\n",
       "Car                                      66461\n",
       "Van / Goods 3.5 tonnes mgw or under       4554\n",
       "Motorcycle over 500cc                     3457\n",
       "Bus or coach (17 or more pass seats)      3373\n",
       "Goods 7.5 tonnes mgw and over             2321\n",
       "Motorcycle 125cc and under                2031\n",
       "Taxi/Private hire car                     1771\n",
       "Motorcycle 50cc and under                 1014\n",
       "Motorcycle over 125cc and up to 500cc     1014\n",
       "Goods over 3.5t. and under 7.5t            857\n",
       "Other vehicle                              767\n",
       "Agricultural vehicle                       282\n",
       "Minibus (8 - 16 passenger seats)           276\n",
       "Pedal cycle                                 39\n",
       "Name: count, dtype: int64"
      ]
     },
     "execution_count": 122,
     "metadata": {},
     "output_type": "execute_result"
    }
   ],
   "source": [
    "roadacc[roadacc[\"Accident_Severity\"]==\"Serious\"][\"Vehicle_Type\"].value_counts()"
   ]
  },
  {
   "cell_type": "markdown",
   "id": "fd1b38af-8532-4e10-b0e2-92916273a169",
   "metadata": {},
   "source": [
    "<h3>Insights: The vehicle type that has the most serious  accidents are cars</h3>"
   ]
  }
 ],
 "metadata": {
  "kernelspec": {
   "display_name": "Python 3 (ipykernel)",
   "language": "python",
   "name": "python3"
  },
  "language_info": {
   "codemirror_mode": {
    "name": "ipython",
    "version": 3
   },
   "file_extension": ".py",
   "mimetype": "text/x-python",
   "name": "python",
   "nbconvert_exporter": "python",
   "pygments_lexer": "ipython3",
   "version": "3.12.4"
  }
 },
 "nbformat": 4,
 "nbformat_minor": 5
}
